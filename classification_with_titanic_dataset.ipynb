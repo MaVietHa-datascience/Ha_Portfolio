{
  "nbformat": 4,
  "nbformat_minor": 0,
  "metadata": {
    "colab": {
      "provenance": [],
      "authorship_tag": "ABX9TyOb8JpP1e0Jn8H15zh3cL1p",
      "include_colab_link": true
    },
    "kernelspec": {
      "name": "python3",
      "display_name": "Python 3"
    },
    "language_info": {
      "name": "python"
    }
  },
  "cells": [
    {
      "cell_type": "markdown",
      "metadata": {
        "id": "view-in-github",
        "colab_type": "text"
      },
      "source": [
        "<a href=\"https://colab.research.google.com/github/MaVietHa-datascience/Ha_Portfolio/blob/main/classification_with_titanic_dataset.ipynb\" target=\"_parent\"><img src=\"https://colab.research.google.com/assets/colab-badge.svg\" alt=\"Open In Colab\"/></a>"
      ]
    },
    {
      "cell_type": "code",
      "execution_count": 125,
      "metadata": {
        "id": "lwt0_w3vUjSx"
      },
      "outputs": [],
      "source": [
        "import pandas as pd\n",
        "import numpy as np\n",
        "import matplotlib.pyplot as plt\n",
        "import seaborn as sns\n",
        "%matplotlib inline\n",
        "sns.set_style('whitegrid')"
      ]
    },
    {
      "cell_type": "code",
      "source": [
        "titanic = sns.load_dataset('titanic')"
      ],
      "metadata": {
        "id": "7w6YQqWhVb6n"
      },
      "execution_count": 126,
      "outputs": []
    },
    {
      "cell_type": "code",
      "source": [
        "titanic.columns"
      ],
      "metadata": {
        "colab": {
          "base_uri": "https://localhost:8080/"
        },
        "id": "fP3m6yVzXYxv",
        "outputId": "a0bf73b0-24d2-421b-dfbb-e3c7171e3649"
      },
      "execution_count": 127,
      "outputs": [
        {
          "output_type": "execute_result",
          "data": {
            "text/plain": [
              "Index(['survived', 'pclass', 'sex', 'age', 'sibsp', 'parch', 'fare',\n",
              "       'embarked', 'class', 'who', 'adult_male', 'deck', 'embark_town',\n",
              "       'alive', 'alone'],\n",
              "      dtype='object')"
            ]
          },
          "metadata": {},
          "execution_count": 127
        }
      ]
    },
    {
      "cell_type": "markdown",
      "source": [
        "**1. DEAL WITH MISSING VALUES**"
      ],
      "metadata": {
        "id": "WJNO-ymqW_7D"
      }
    },
    {
      "cell_type": "code",
      "source": [
        "# Calculate number of missing values\n",
        "\n",
        "for feature in titanic.columns:\n",
        "  print(feature, np.round(titanic[feature].isnull().sum() / len(titanic[feature])*100, 3), '% missing values')"
      ],
      "metadata": {
        "colab": {
          "base_uri": "https://localhost:8080/"
        },
        "id": "PsS6POHeVgUO",
        "outputId": "7099b313-2039-4a58-c675-1b4c6ea6c3eb"
      },
      "execution_count": 128,
      "outputs": [
        {
          "output_type": "stream",
          "name": "stdout",
          "text": [
            "survived 0.0 % missing values\n",
            "pclass 0.0 % missing values\n",
            "sex 0.0 % missing values\n",
            "age 19.865 % missing values\n",
            "sibsp 0.0 % missing values\n",
            "parch 0.0 % missing values\n",
            "fare 0.0 % missing values\n",
            "embarked 0.224 % missing values\n",
            "class 0.0 % missing values\n",
            "who 0.0 % missing values\n",
            "adult_male 0.0 % missing values\n",
            "deck 77.217 % missing values\n",
            "embark_town 0.224 % missing values\n",
            "alive 0.0 % missing values\n",
            "alone 0.0 % missing values\n"
          ]
        }
      ]
    },
    {
      "cell_type": "code",
      "source": [
        "# Fill categorical missing value\n",
        "titanic['embark_town'] = titanic['embark_town'].fillna('Unknown')\n",
        "titanic['deck'] = titanic['deck'].cat.add_categories('no_deck')\n",
        "titanic['deck'] = titanic['deck'].fillna('no_deck')"
      ],
      "metadata": {
        "id": "gqeARgpgVkPN"
      },
      "execution_count": 129,
      "outputs": []
    },
    {
      "cell_type": "code",
      "source": [
        "# Group age with who, sibsp, parch feature and fill missing value with mean of each group\n",
        "titanic.groupby(['who','sibsp', 'parch'])['age'].agg(lambda x:x.isnull().sum()/len(x))\n",
        "filler = titanic.groupby(['who', 'sibsp', 'parch'])['age'].apply(lambda x: x.fillna(x.mean()))\n",
        "titanic['age'] = filler"
      ],
      "metadata": {
        "colab": {
          "base_uri": "https://localhost:8080/"
        },
        "id": "Qz4k44YsZ9Vg",
        "outputId": "7d968c65-66c0-499d-861b-8b698ed448ee"
      },
      "execution_count": 130,
      "outputs": [
        {
          "output_type": "stream",
          "name": "stderr",
          "text": [
            "<ipython-input-130-7012a8074306>:3: FutureWarning: Not prepending group keys to the result index of transform-like apply. In the future, the group keys will be included in the index, regardless of whether the applied function returns a like-indexed object.\n",
            "To preserve the previous behavior, use\n",
            "\n",
            "\t>>> .groupby(..., group_keys=False)\n",
            "\n",
            "To adopt the future behavior and silence this warning, use \n",
            "\n",
            "\t>>> .groupby(..., group_keys=True)\n",
            "  filler = titanic.groupby(['who', 'sibsp', 'parch'])['age'].apply(lambda x: x.fillna(x.mean()))\n"
          ]
        }
      ]
    },
    {
      "cell_type": "code",
      "source": [
        "# Age still hase missing values some group has no value to calculate mean. So I group age by sibsp and parch\n",
        "titanic.groupby(['sibsp', 'parch'])['age'].agg([len, 'mean', lambda x: (x.isnull().sum())/len(x)])\n",
        "filler = titanic.groupby(['sibsp', 'parch'])['age'].apply(lambda x: x.fillna(x.mean()))"
      ],
      "metadata": {
        "colab": {
          "base_uri": "https://localhost:8080/"
        },
        "id": "pQCxLm95aZYl",
        "outputId": "937f734b-8dd8-4c66-eef8-6b1e4fecf9fc"
      },
      "execution_count": 131,
      "outputs": [
        {
          "output_type": "stream",
          "name": "stderr",
          "text": [
            "<ipython-input-131-ca9c64a18c59>:3: FutureWarning: Not prepending group keys to the result index of transform-like apply. In the future, the group keys will be included in the index, regardless of whether the applied function returns a like-indexed object.\n",
            "To preserve the previous behavior, use\n",
            "\n",
            "\t>>> .groupby(..., group_keys=False)\n",
            "\n",
            "To adopt the future behavior and silence this warning, use \n",
            "\n",
            "\t>>> .groupby(..., group_keys=True)\n",
            "  filler = titanic.groupby(['sibsp', 'parch'])['age'].apply(lambda x: x.fillna(x.mean()))\n"
          ]
        }
      ]
    },
    {
      "cell_type": "code",
      "source": [
        "# Last missing values\n",
        "titanic[titanic['age'].isnull()]\n",
        "filler = titanic.groupby(['adult_male'])['age'].apply(lambda x: x.fillna(x.mean()))\n",
        "titanic['age'] = filler"
      ],
      "metadata": {
        "colab": {
          "base_uri": "https://localhost:8080/"
        },
        "id": "SIYiYqPBbO50",
        "outputId": "6d32a480-248d-4120-95bd-cb1f684219ca"
      },
      "execution_count": 132,
      "outputs": [
        {
          "output_type": "stream",
          "name": "stderr",
          "text": [
            "<ipython-input-132-68492f9dee02>:3: FutureWarning: Not prepending group keys to the result index of transform-like apply. In the future, the group keys will be included in the index, regardless of whether the applied function returns a like-indexed object.\n",
            "To preserve the previous behavior, use\n",
            "\n",
            "\t>>> .groupby(..., group_keys=False)\n",
            "\n",
            "To adopt the future behavior and silence this warning, use \n",
            "\n",
            "\t>>> .groupby(..., group_keys=True)\n",
            "  filler = titanic.groupby(['adult_male'])['age'].apply(lambda x: x.fillna(x.mean()))\n"
          ]
        }
      ]
    },
    {
      "cell_type": "markdown",
      "source": [
        "**2. FEATURE ENGINEERING**"
      ],
      "metadata": {
        "id": "R6rbSdg1esOp"
      }
    },
    {
      "cell_type": "code",
      "source": [
        "# Feature engineering with numerical value\n",
        "sns.histplot(data= titanic, x = 'age', kde = True, bins = 20)\n",
        "age_group = [0,15,25,45,60,70,100]\n",
        "titanic['age_group'] = pd.cut(titanic['age'], bins = age_group)\n",
        "titanic['log_fare'] = np.log1p(titanic['fare'])"
      ],
      "metadata": {
        "colab": {
          "base_uri": "https://localhost:8080/",
          "height": 449
        },
        "id": "D092lPUoWIpB",
        "outputId": "4ada3da9-8e09-4bd5-c9fa-dde5aec6a1dd"
      },
      "execution_count": 133,
      "outputs": [
        {
          "output_type": "display_data",
          "data": {
            "text/plain": [
              "<Figure size 640x480 with 1 Axes>"
            ],
            "image/png": "[encoded data removed]"
          },
          "metadata": {}
        }
      ]
    },
    {
      "cell_type": "code",
      "source": [
        "# Categorical feature: ['sex', 'adult male', 'alone']\n",
        "titanic['gender'] = titanic['sex'].map({'male':0, 'female':1})\n",
        "titanic['adult_male'] = titanic['adult_male'].astype(int)\n",
        "titanic['alone'] = titanic['alone'].astype(int)\n"
      ],
      "metadata": {
        "id": "dHwJ7yByWT7B"
      },
      "execution_count": 134,
      "outputs": []
    },
    {
      "cell_type": "code",
      "source": [
        "grid = sns.FacetGrid(data = titanic, row ='sex', col = 'class', hue ='survived')\n",
        "grid.map(sns.scatterplot,'age', 'fare')"
      ],
      "metadata": {
        "colab": {
          "base_uri": "https://localhost:8080/",
          "height": 625
        },
        "id": "YZwrX3F-WXVm",
        "outputId": "b81ce585-c5ba-44e0-c643-edefd9779981"
      },
      "execution_count": 135,
      "outputs": [
        {
          "output_type": "execute_result",
          "data": {
            "text/plain": [
              "<seaborn.axisgrid.FacetGrid at 0x7a7bba575090>"
            ]
          },
          "metadata": {},
          "execution_count": 135
        },
        {
          "output_type": "display_data",
          "data": {
            "text/plain": [
              "<Figure size 900x600 with 6 Axes>"
            ],
            "image/png": "[encoded data removed]"
          },
          "metadata": {}
        }
      ]
    },
    {
      "cell_type": "code",
      "source": [
        "# Create new feature: female_class\n",
        "filter1 = titanic['gender'] == 1\n",
        "filter2 = titanic['class'].isin(['First', 'Second'])\n",
        "titanic['female_class'] = (filter1 & filter2).astype(int)\n",
        "titanic['female_class']"
      ],
      "metadata": {
        "colab": {
          "base_uri": "https://localhost:8080/"
        },
        "id": "2rvjXG6VWYZo",
        "outputId": "910120ea-4308-4363-a49d-36fb2fe112e8"
      },
      "execution_count": 136,
      "outputs": [
        {
          "output_type": "execute_result",
          "data": {
            "text/plain": [
              "0      0\n",
              "1      1\n",
              "2      0\n",
              "3      1\n",
              "4      0\n",
              "      ..\n",
              "886    0\n",
              "887    1\n",
              "888    0\n",
              "889    0\n",
              "890    0\n",
              "Name: female_class, Length: 891, dtype: int64"
            ]
          },
          "metadata": {},
          "execution_count": 136
        }
      ]
    },
    {
      "cell_type": "code",
      "source": [
        "# One hot encoding\n",
        "encoded = pd.get_dummies(titanic[['deck', 'embark_town', 'class', 'age_group', 'who']])\n",
        "titanic = titanic.join(encoded)\n",
        "titanic.info()"
      ],
      "metadata": {
        "colab": {
          "base_uri": "https://localhost:8080/"
        },
        "id": "mL32uOVQWg5o",
        "outputId": "0f7c26b8-9cf7-4feb-de4f-b08260e6b2ed"
      },
      "execution_count": 137,
      "outputs": [
        {
          "output_type": "stream",
          "name": "stdout",
          "text": [
            "<class 'pandas.core.frame.DataFrame'>\n",
            "RangeIndex: 891 entries, 0 to 890\n",
            "Data columns (total 43 columns):\n",
            " #   Column                   Non-Null Count  Dtype   \n",
            "---  ------                   --------------  -----   \n",
            " 0   survived                 891 non-null    int64   \n",
            " 1   pclass                   891 non-null    int64   \n",
            " 2   sex                      891 non-null    object  \n",
            " 3   age                      891 non-null    float64 \n",
            " 4   sibsp                    891 non-null    int64   \n",
            " 5   parch                    891 non-null    int64   \n",
            " 6   fare                     891 non-null    float64 \n",
            " 7   embarked                 889 non-null    object  \n",
            " 8   class                    891 non-null    category\n",
            " 9   who                      891 non-null    object  \n",
            " 10  adult_male               891 non-null    int64   \n",
            " 11  deck                     891 non-null    category\n",
            " 12  embark_town              891 non-null    object  \n",
            " 13  alive                    891 non-null    object  \n",
            " 14  alone                    891 non-null    int64   \n",
            " 15  age_group                891 non-null    category\n",
            " 16  log_fare                 891 non-null    float64 \n",
            " 17  gender                   891 non-null    int64   \n",
            " 18  female_class             891 non-null    int64   \n",
            " 19  deck_A                   891 non-null    uint8   \n",
            " 20  deck_B                   891 non-null    uint8   \n",
            " 21  deck_C                   891 non-null    uint8   \n",
            " 22  deck_D                   891 non-null    uint8   \n",
            " 23  deck_E                   891 non-null    uint8   \n",
            " 24  deck_F                   891 non-null    uint8   \n",
            " 25  deck_G                   891 non-null    uint8   \n",
            " 26  deck_no_deck             891 non-null    uint8   \n",
            " 27  embark_town_Cherbourg    891 non-null    uint8   \n",
            " 28  embark_town_Queenstown   891 non-null    uint8   \n",
            " 29  embark_town_Southampton  891 non-null    uint8   \n",
            " 30  embark_town_Unknown      891 non-null    uint8   \n",
            " 31  class_First              891 non-null    uint8   \n",
            " 32  class_Second             891 non-null    uint8   \n",
            " 33  class_Third              891 non-null    uint8   \n",
            " 34  age_group_(0, 15]        891 non-null    uint8   \n",
            " 35  age_group_(15, 25]       891 non-null    uint8   \n",
            " 36  age_group_(25, 45]       891 non-null    uint8   \n",
            " 37  age_group_(45, 60]       891 non-null    uint8   \n",
            " 38  age_group_(60, 70]       891 non-null    uint8   \n",
            " 39  age_group_(70, 100]      891 non-null    uint8   \n",
            " 40  who_child                891 non-null    uint8   \n",
            " 41  who_man                  891 non-null    uint8   \n",
            " 42  who_woman                891 non-null    uint8   \n",
            "dtypes: category(3), float64(3), int64(8), object(5), uint8(24)\n",
            "memory usage: 135.7+ KB\n"
          ]
        }
      ]
    },
    {
      "cell_type": "code",
      "source": [
        "# Data to train\n",
        "data = titanic.drop(columns = ['deck', 'embarked', 'who', 'class', 'age_group', 'embark_town', 'sex' ])\n",
        "data = data.drop(columns = ['fare', 'alive'])\n",
        "data.info()"
      ],
      "metadata": {
        "colab": {
          "base_uri": "https://localhost:8080/"
        },
        "id": "PsShao7bWk1E",
        "outputId": "0618147b-8385-4bc4-91fa-ea3b397931a9"
      },
      "execution_count": 138,
      "outputs": [
        {
          "output_type": "stream",
          "name": "stdout",
          "text": [
            "<class 'pandas.core.frame.DataFrame'>\n",
            "RangeIndex: 891 entries, 0 to 890\n",
            "Data columns (total 34 columns):\n",
            " #   Column                   Non-Null Count  Dtype  \n",
            "---  ------                   --------------  -----  \n",
            " 0   survived                 891 non-null    int64  \n",
            " 1   pclass                   891 non-null    int64  \n",
            " 2   age                      891 non-null    float64\n",
            " 3   sibsp                    891 non-null    int64  \n",
            " 4   parch                    891 non-null    int64  \n",
            " 5   adult_male               891 non-null    int64  \n",
            " 6   alone                    891 non-null    int64  \n",
            " 7   log_fare                 891 non-null    float64\n",
            " 8   gender                   891 non-null    int64  \n",
            " 9   female_class             891 non-null    int64  \n",
            " 10  deck_A                   891 non-null    uint8  \n",
            " 11  deck_B                   891 non-null    uint8  \n",
            " 12  deck_C                   891 non-null    uint8  \n",
            " 13  deck_D                   891 non-null    uint8  \n",
            " 14  deck_E                   891 non-null    uint8  \n",
            " 15  deck_F                   891 non-null    uint8  \n",
            " 16  deck_G                   891 non-null    uint8  \n",
            " 17  deck_no_deck             891 non-null    uint8  \n",
            " 18  embark_town_Cherbourg    891 non-null    uint8  \n",
            " 19  embark_town_Queenstown   891 non-null    uint8  \n",
            " 20  embark_town_Southampton  891 non-null    uint8  \n",
            " 21  embark_town_Unknown      891 non-null    uint8  \n",
            " 22  class_First              891 non-null    uint8  \n",
            " 23  class_Second             891 non-null    uint8  \n",
            " 24  class_Third              891 non-null    uint8  \n",
            " 25  age_group_(0, 15]        891 non-null    uint8  \n",
            " 26  age_group_(15, 25]       891 non-null    uint8  \n",
            " 27  age_group_(25, 45]       891 non-null    uint8  \n",
            " 28  age_group_(45, 60]       891 non-null    uint8  \n",
            " 29  age_group_(60, 70]       891 non-null    uint8  \n",
            " 30  age_group_(70, 100]      891 non-null    uint8  \n",
            " 31  who_child                891 non-null    uint8  \n",
            " 32  who_man                  891 non-null    uint8  \n",
            " 33  who_woman                891 non-null    uint8  \n",
            "dtypes: float64(2), int64(8), uint8(24)\n",
            "memory usage: 90.6 KB\n"
          ]
        }
      ]
    },
    {
      "cell_type": "markdown",
      "source": [
        "**3. TRAINING MODELS**"
      ],
      "metadata": {
        "id": "oJ5xWfpze-8u"
      }
    },
    {
      "cell_type": "markdown",
      "source": [
        "3.1 Prediction with DecisionTreeClassifier"
      ],
      "metadata": {
        "id": "_HLxsjL1ffOR"
      }
    },
    {
      "cell_type": "code",
      "source": [
        "from sklearn.tree import DecisionTreeClassifier\n",
        "from sklearn.model_selection import train_test_split\n",
        "from sklearn import metrics"
      ],
      "metadata": {
        "id": "x4yQqDkqWnuB"
      },
      "execution_count": 139,
      "outputs": []
    },
    {
      "cell_type": "code",
      "source": [
        "X, y = data.drop(columns = ['survived']), data['survived']\n",
        "x_train, x_test, y_train, y_test = train_test_split(X,y, test_size = 0.25, random_state =90)"
      ],
      "metadata": {
        "id": "8JTxeUAAWoy1"
      },
      "execution_count": 140,
      "outputs": []
    },
    {
      "cell_type": "code",
      "source": [
        "# Choose depth for tree\n",
        "n_features = len(x_train.columns)\n",
        "tree = DecisionTreeClassifier(max_depth =round(np.log2(n_features)), max_features = round(n_features/2))"
      ],
      "metadata": {
        "id": "u-jntevcWqgk"
      },
      "execution_count": 141,
      "outputs": []
    },
    {
      "cell_type": "code",
      "source": [
        "tree.fit(x_train, y_train)\n",
        "y_pred = tree.predict(x_test)"
      ],
      "metadata": {
        "id": "94EBJTZyWsNJ"
      },
      "execution_count": 142,
      "outputs": []
    },
    {
      "cell_type": "code",
      "source": [
        "# Evaluation\n",
        "metrics.accuracy_score(y_test, y_pred)*100\n"
      ],
      "metadata": {
        "colab": {
          "base_uri": "https://localhost:8080/"
        },
        "id": "T1OELbEYWuRV",
        "outputId": "9bebb4a1-308a-4171-9cbf-4c368a84cf7a"
      },
      "execution_count": 143,
      "outputs": [
        {
          "output_type": "execute_result",
          "data": {
            "text/plain": [
              "82.0627802690583"
            ]
          },
          "metadata": {},
          "execution_count": 143
        }
      ]
    },
    {
      "cell_type": "code",
      "source": [
        "cm = metrics.confusion_matrix(y_test, y_pred, labels=tree.classes_)\n",
        "disp = metrics.ConfusionMatrixDisplay(cm)\n",
        "disp.plot()"
      ],
      "metadata": {
        "colab": {
          "base_uri": "https://localhost:8080/",
          "height": 467
        },
        "id": "ZYS0VHiBWvJF",
        "outputId": "4ac4e353-4f9d-431c-aec1-4ef0cab52ed3"
      },
      "execution_count": 144,
      "outputs": [
        {
          "output_type": "execute_result",
          "data": {
            "text/plain": [
              "<sklearn.metrics._plot.confusion_matrix.ConfusionMatrixDisplay at 0x7a7bc19519f0>"
            ]
          },
          "metadata": {},
          "execution_count": 144
        },
        {
          "output_type": "display_data",
          "data": {
            "text/plain": [
              "<Figure size 640x480 with 2 Axes>"
            ],
            "image/png": "[encoded data removed]"
          },
          "metadata": {}
        }
      ]
    },
    {
      "cell_type": "markdown",
      "source": [
        "3.2 Prediction with RandomForestClassifier"
      ],
      "metadata": {
        "id": "pXW5PlI5fjpi"
      }
    },
    {
      "cell_type": "code",
      "source": [
        "from sklearn.ensemble import RandomForestClassifier"
      ],
      "metadata": {
        "id": "yjMYETTNWwNc"
      },
      "execution_count": 145,
      "outputs": []
    },
    {
      "cell_type": "code",
      "source": [
        "forest = RandomForestClassifier(max_depth =round(np.log2(n_features)), max_features = round(n_features/2))"
      ],
      "metadata": {
        "id": "VIn1769SWxRs"
      },
      "execution_count": 146,
      "outputs": []
    },
    {
      "cell_type": "code",
      "source": [
        "forest.fit(x_train, y_train)\n",
        "y_pred = forest.predict(x_test)"
      ],
      "metadata": {
        "id": "tE9ODfQWWyfV"
      },
      "execution_count": 147,
      "outputs": []
    },
    {
      "cell_type": "code",
      "source": [
        "# Valuation\n",
        "metrics.accuracy_score(y_test, y_pred)*100\n"
      ],
      "metadata": {
        "colab": {
          "base_uri": "https://localhost:8080/"
        },
        "id": "CnBgcy0SW0c3",
        "outputId": "ec4dfa77-0eee-44e7-e87d-c1ee5a76e1f1"
      },
      "execution_count": 148,
      "outputs": [
        {
          "output_type": "execute_result",
          "data": {
            "text/plain": [
              "81.61434977578476"
            ]
          },
          "metadata": {},
          "execution_count": 148
        }
      ]
    },
    {
      "cell_type": "code",
      "source": [
        "pd.Series(forest.feature_importances_, index = x_train.columns).sort_values(ascending = False)\n"
      ],
      "metadata": {
        "colab": {
          "base_uri": "https://localhost:8080/"
        },
        "id": "eoEgPcPlW1Z1",
        "outputId": "c1cac2b3-fc35-478e-a325-9b310da8433c"
      },
      "execution_count": 149,
      "outputs": [
        {
          "output_type": "execute_result",
          "data": {
            "text/plain": [
              "adult_male                 0.176609\n",
              "female_class               0.166725\n",
              "who_man                    0.158118\n",
              "log_fare                   0.105231\n",
              "age                        0.068988\n",
              "gender                     0.051320\n",
              "sibsp                      0.045551\n",
              "pclass                     0.045289\n",
              "class_Third                0.043576\n",
              "who_woman                  0.024408\n",
              "deck_no_deck               0.020149\n",
              "deck_E                     0.013406\n",
              "deck_D                     0.009959\n",
              "parch                      0.007515\n",
              "class_First                0.007353\n",
              "embark_town_Southampton    0.007230\n",
              "age_group_(0, 15]          0.006109\n",
              "embark_town_Cherbourg      0.005674\n",
              "age_group_(15, 25]         0.005565\n",
              "who_child                  0.004783\n",
              "age_group_(25, 45]         0.004599\n",
              "class_Second               0.004208\n",
              "deck_C                     0.003972\n",
              "embark_town_Queenstown     0.003933\n",
              "alone                      0.002874\n",
              "age_group_(60, 70]         0.002416\n",
              "age_group_(45, 60]         0.001854\n",
              "deck_B                     0.001545\n",
              "deck_A                     0.000400\n",
              "deck_G                     0.000364\n",
              "deck_F                     0.000276\n",
              "age_group_(70, 100]        0.000000\n",
              "embark_town_Unknown        0.000000\n",
              "dtype: float64"
            ]
          },
          "metadata": {},
          "execution_count": 149
        }
      ]
    }
  ]
}